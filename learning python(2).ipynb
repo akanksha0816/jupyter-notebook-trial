{
 "cells": [
  {
   "cell_type": "code",
   "execution_count": 1,
   "id": "9ac4b11a-3037-41fe-8458-df79196d9f34",
   "metadata": {},
   "outputs": [
    {
     "name": "stdout",
     "output_type": "stream",
     "text": [
      "3.12.4 | packaged by Anaconda, Inc. | (main, Jun 18 2024, 15:03:56) [MSC v.1929 64 bit (AMD64)]\n"
     ]
    }
   ],
   "source": [
    "import sys\n",
    "print (sys.version)"
   ]
  },
  {
   "cell_type": "code",
   "execution_count": 3,
   "id": "f362c18f-db64-4641-a1bc-162bf42c4a05",
   "metadata": {},
   "outputs": [
    {
     "name": "stdout",
     "output_type": "stream",
     "text": [
      "hello python\n"
     ]
    }
   ],
   "source": [
    "print ('hello python')"
   ]
  },
  {
   "cell_type": "code",
   "execution_count": 5,
   "id": "0f40af02-1538-47db-bda2-c5e259161a3f",
   "metadata": {},
   "outputs": [
    {
     "data": {
      "text/plain": [
       "int"
      ]
     },
     "execution_count": 5,
     "metadata": {},
     "output_type": "execute_result"
    }
   ],
   "source": [
    "type(456)"
   ]
  },
  {
   "cell_type": "code",
   "execution_count": 7,
   "id": "e8d4db72-bb9c-4929-9983-e266a417e044",
   "metadata": {},
   "outputs": [
    {
     "data": {
      "text/plain": [
       "float"
      ]
     },
     "execution_count": 7,
     "metadata": {},
     "output_type": "execute_result"
    }
   ],
   "source": [
    "type(2.24)"
   ]
  },
  {
   "cell_type": "code",
   "execution_count": 9,
   "id": "aacc76c9-c2c9-4754-92cf-efe0a52d298a",
   "metadata": {},
   "outputs": [
    {
     "data": {
      "text/plain": [
       "str"
      ]
     },
     "execution_count": 9,
     "metadata": {},
     "output_type": "execute_result"
    }
   ],
   "source": [
    "type('slay')"
   ]
  },
  {
   "cell_type": "code",
   "execution_count": 11,
   "id": "b1413502-f446-468f-bd75-48747a385b39",
   "metadata": {},
   "outputs": [
    {
     "data": {
      "text/plain": [
       "int"
      ]
     },
     "execution_count": 11,
     "metadata": {},
     "output_type": "execute_result"
    }
   ],
   "source": [
    "type(-4)"
   ]
  },
  {
   "cell_type": "code",
   "execution_count": 13,
   "id": "36af3dd8-58be-4a81-bb00-2fffb2284f54",
   "metadata": {},
   "outputs": [
    {
     "data": {
      "text/plain": [
       "int"
      ]
     },
     "execution_count": 13,
     "metadata": {},
     "output_type": "execute_result"
    }
   ],
   "source": [
    "type(2)\n"
   ]
  },
  {
   "cell_type": "code",
   "execution_count": 15,
   "id": "7f96bbdc-e6fe-4fd8-b716-a5db20b11b36",
   "metadata": {},
   "outputs": [
    {
     "data": {
      "text/plain": [
       "2.0"
      ]
     },
     "execution_count": 15,
     "metadata": {},
     "output_type": "execute_result"
    }
   ],
   "source": [
    "float(2)"
   ]
  },
  {
   "cell_type": "code",
   "execution_count": 19,
   "id": "fc2adb0d-1869-4bee-94da-9604918fac8e",
   "metadata": {},
   "outputs": [
    {
     "data": {
      "text/plain": [
       "float"
      ]
     },
     "execution_count": 19,
     "metadata": {},
     "output_type": "execute_result"
    }
   ],
   "source": [
    "##converting int to float and then checking type\n",
    "type(float(2))"
   ]
  },
  {
   "cell_type": "code",
   "execution_count": 25,
   "id": "0797343b-33e2-42fb-9d6c-03156a9d58d0",
   "metadata": {},
   "outputs": [
    {
     "data": {
      "text/plain": [
       "str"
      ]
     },
     "execution_count": 25,
     "metadata": {},
     "output_type": "execute_result"
    }
   ],
   "source": [
    "type('74')"
   ]
  },
  {
   "cell_type": "code",
   "execution_count": 29,
   "id": "75d954d0-027c-4a52-8918-ce6fac994885",
   "metadata": {},
   "outputs": [
    {
     "name": "stdout",
     "output_type": "stream",
     "text": [
      "h\n"
     ]
    }
   ],
   "source": [
    "name = \"john\"\n",
    "print (name[2])"
   ]
  },
  {
   "cell_type": "code",
   "execution_count": 41,
   "id": "5d034117-836f-4fd9-927a-6f8d5b86c5f6",
   "metadata": {},
   "outputs": [
    {
     "name": "stdout",
     "output_type": "stream",
     "text": [
      "joh\n"
     ]
    }
   ],
   "source": [
    "petname=name[0:3]\n",
    "print (petname)"
   ]
  },
  {
   "cell_type": "code",
   "execution_count": 53,
   "id": "c1bd2875-376f-421a-82b0-da63e7d05335",
   "metadata": {},
   "outputs": [],
   "source": [
    "x = 7+2"
   ]
  },
  {
   "cell_type": "code",
   "execution_count": 55,
   "id": "d2c2bf9e-a001-44fe-8d2e-5db70c234999",
   "metadata": {},
   "outputs": [
    {
     "name": "stdout",
     "output_type": "stream",
     "text": [
      "9\n"
     ]
    }
   ],
   "source": [
    "print (x)"
   ]
  },
  {
   "cell_type": "code",
   "execution_count": 59,
   "id": "b20cd38e-165b-4b13-b02d-65c5b5d8bfc6",
   "metadata": {},
   "outputs": [
    {
     "data": {
      "text/plain": [
       "'11'"
      ]
     },
     "execution_count": 59,
     "metadata": {},
     "output_type": "execute_result"
    }
   ],
   "source": [
    "str (11)\n"
   ]
  },
  {
   "cell_type": "code",
   "execution_count": 61,
   "id": "4d7107c8-a2c2-4e36-967b-01d7a19b4209",
   "metadata": {},
   "outputs": [
    {
     "data": {
      "text/plain": [
       "'11'"
      ]
     },
     "execution_count": 61,
     "metadata": {},
     "output_type": "execute_result"
    }
   ],
   "source": [
    "str('1'+'1')"
   ]
  },
  {
   "cell_type": "code",
   "execution_count": 63,
   "id": "3cf08845-a67b-4575-a914-3a4aa7f03ce7",
   "metadata": {},
   "outputs": [
    {
     "data": {
      "text/plain": [
       "'2'"
      ]
     },
     "execution_count": 63,
     "metadata": {},
     "output_type": "execute_result"
    }
   ],
   "source": [
    "str (1+1)"
   ]
  },
  {
   "cell_type": "code",
   "execution_count": 65,
   "id": "deda7feb-360a-432f-a880-e2cf28e1860e",
   "metadata": {},
   "outputs": [
    {
     "data": {
      "text/plain": [
       "'11'"
      ]
     },
     "execution_count": 65,
     "metadata": {},
     "output_type": "execute_result"
    }
   ],
   "source": [
    "'1'+'1'"
   ]
  },
  {
   "cell_type": "code",
   "execution_count": 67,
   "id": "6adf8ff2-c6ed-4dc6-a886-b734b6f2cff8",
   "metadata": {},
   "outputs": [
    {
     "data": {
      "text/plain": [
       "'11'"
      ]
     },
     "execution_count": 67,
     "metadata": {},
     "output_type": "execute_result"
    }
   ],
   "source": [
    "str(1)+str(1)"
   ]
  },
  {
   "cell_type": "markdown",
   "id": "834db815-2b1c-489f-9e5f-4db32b7ccf98",
   "metadata": {},
   "source": [
    "## lists and tuples"
   ]
  },
  {
   "cell_type": "code",
   "execution_count": 70,
   "id": "8b4312cb-4d92-4871-8f1d-bc422843ff4c",
   "metadata": {},
   "outputs": [
    {
     "name": "stdout",
     "output_type": "stream",
     "text": [
      "Before change: ['disco', 10, 1.2]\n",
      "After change: ['hard rock', 10, 1.2]\n"
     ]
    }
   ],
   "source": [
    "Aa = [\"disco\", 10, 1.2]\n",
    "print('Before change:', A)\n",
    "Aa[0] = 'hard rock'\n",
    "print('After change:', A)"
   ]
  },
  {
   "cell_type": "code",
   "execution_count": 121,
   "id": "6c67c001-da45-4963-b2c2-57d8eef2606e",
   "metadata": {},
   "outputs": [],
   "source": [
    "A=((11,12),[21,22])\n"
   ]
  },
  {
   "cell_type": "code",
   "execution_count": 123,
   "id": "2760ea22-d00c-4539-a7ea-1b64443b4d7b",
   "metadata": {},
   "outputs": [
    {
     "data": {
      "text/plain": [
       "[21, 22]"
      ]
     },
     "execution_count": 123,
     "metadata": {},
     "output_type": "execute_result"
    }
   ],
   "source": [
    "A[1]"
   ]
  },
  {
   "cell_type": "code",
   "execution_count": 127,
   "id": "5a38937b-f591-4fc4-9b72-959d894b3ebd",
   "metadata": {},
   "outputs": [],
   "source": [
    "b=((1),[2,3],[4])"
   ]
  },
  {
   "cell_type": "code",
   "execution_count": 129,
   "id": "45b022dc-38a7-44df-9d4d-2689d2f898ec",
   "metadata": {},
   "outputs": [
    {
     "data": {
      "text/plain": [
       "4"
      ]
     },
     "execution_count": 129,
     "metadata": {},
     "output_type": "execute_result"
    }
   ],
   "source": [
    " b[2][0]"
   ]
  },
  {
   "cell_type": "code",
   "execution_count": 133,
   "id": "d7288f1e-03d7-43ae-b182-02001a324007",
   "metadata": {},
   "outputs": [],
   "source": [
    " L = ['c', 'd']"
   ]
  },
  {
   "cell_type": "code",
   "execution_count": 141,
   "id": "3342cb53-1db6-4e03-a240-2af94c7d9ec2",
   "metadata": {},
   "outputs": [],
   "source": [
    "L.append(['a', 'b'])\n"
   ]
  },
  {
   "cell_type": "markdown",
   "id": "4288bfa9-77c9-4d79-a6cd-456ca982ed5b",
   "metadata": {},
   "source": [
    "# dictionary"
   ]
  },
  {
   "cell_type": "code",
   "execution_count": null,
   "id": "7ea5763f-83ba-4d13-a6bf-1b8a50f06e88",
   "metadata": {},
   "outputs": [],
   "source": []
  },
  {
   "cell_type": "code",
   "execution_count": 78,
   "id": "5de7c2ed-4f86-4ccc-8bdb-1d0ffe7fabd9",
   "metadata": {},
   "outputs": [
    {
     "data": {
      "text/plain": [
       "{'Japanese': 'arigato guzaimas',\n",
       " 'Spanish': 'hola, soy dora',\n",
       " 'english': 'my name is walter white yo'}"
      ]
     },
     "execution_count": 78,
     "metadata": {},
     "output_type": "execute_result"
    }
   ],
   "source": [
    "dict = {\"Japanese\": 'arigato guzaimas', \"Spanish\" : 'hola, soy dora', \"english\" : 'my name is walter white yo'}\n",
    "dict\n"
   ]
  },
  {
   "cell_type": "code",
   "execution_count": 80,
   "id": "61a1c18c-3ec9-422c-a28b-177791949e92",
   "metadata": {},
   "outputs": [
    {
     "data": {
      "text/plain": [
       "'arigato guzaimas'"
      ]
     },
     "execution_count": 80,
     "metadata": {},
     "output_type": "execute_result"
    }
   ],
   "source": [
    "dict[\"Japanese\"]"
   ]
  },
  {
   "cell_type": "code",
   "execution_count": 82,
   "id": "ff9a6987-1804-419c-9c89-ef5367651075",
   "metadata": {},
   "outputs": [
    {
     "data": {
      "text/plain": [
       "'my name is walter white yo'"
      ]
     },
     "execution_count": 82,
     "metadata": {},
     "output_type": "execute_result"
    }
   ],
   "source": [
    "dict[\"english\"]"
   ]
  },
  {
   "cell_type": "code",
   "execution_count": 86,
   "id": "d8a7af6c-2941-4f67-9225-afd677cbe320",
   "metadata": {},
   "outputs": [
    {
     "ename": "KeyError",
     "evalue": "'Japanese'",
     "output_type": "error",
     "traceback": [
      "\u001b[1;31m---------------------------------------------------------------------------\u001b[0m",
      "\u001b[1;31mKeyError\u001b[0m                                  Traceback (most recent call last)",
      "Cell \u001b[1;32mIn[86], line 1\u001b[0m\n\u001b[1;32m----> 1\u001b[0m \u001b[38;5;28;01mdel\u001b[39;00m(\u001b[38;5;28mdict\u001b[39m[\u001b[38;5;124m'\u001b[39m\u001b[38;5;124mJapanese\u001b[39m\u001b[38;5;124m'\u001b[39m])\n\u001b[0;32m      2\u001b[0m \u001b[38;5;28mdict\u001b[39m\n",
      "\u001b[1;31mKeyError\u001b[0m: 'Japanese'"
     ]
    }
   ],
   "source": [
    "del(dict['Japanese'])\n",
    "dict"
   ]
  },
  {
   "cell_type": "code",
   "execution_count": 88,
   "id": "d45e82ca-ef78-4f70-8c82-18be56af021e",
   "metadata": {},
   "outputs": [
    {
     "data": {
      "text/plain": [
       "False"
      ]
     },
     "execution_count": 88,
     "metadata": {},
     "output_type": "execute_result"
    }
   ],
   "source": [
    "'Japanese' in dict"
   ]
  },
  {
   "cell_type": "markdown",
   "id": "523dc51d-beb2-400b-b06b-0818cb3d5ec8",
   "metadata": {},
   "source": [
    "# sets"
   ]
  },
  {
   "cell_type": "code",
   "execution_count": 95,
   "id": "5fe5b4f5-a9e9-4e18-80fb-533a7e4120f4",
   "metadata": {},
   "outputs": [
    {
     "data": {
      "text/plain": [
       "{'blue', 'green', 'orange', 'pink', 'red', 'yellow'}"
      ]
     },
     "execution_count": 95,
     "metadata": {},
     "output_type": "execute_result"
    }
   ],
   "source": [
    "set1 = {\"red\", \"green\", \"blue\", \"pink\", \"red\", \"yellow\", \"red\", \"orange\"}\n",
    "set1"
   ]
  },
  {
   "cell_type": "code",
   "execution_count": 97,
   "id": "3dec83d5-7905-4613-bf6d-a837a7c0e1f4",
   "metadata": {},
   "outputs": [],
   "source": [
    "set1 = colour"
   ]
  },
  {
   "cell_type": "code",
   "execution_count": 99,
   "id": "5f5d8a72-1ef9-4354-8f7d-e4428e96d9f2",
   "metadata": {},
   "outputs": [
    {
     "data": {
      "text/plain": [
       "{'blue', 'green', 'orange', 'pink', 'red', 'yellow'}"
      ]
     },
     "execution_count": 99,
     "metadata": {},
     "output_type": "execute_result"
    }
   ],
   "source": [
    "colour"
   ]
  },
  {
   "cell_type": "code",
   "execution_count": 101,
   "id": "2d8baab2-b925-438e-bd76-315326ce7540",
   "metadata": {},
   "outputs": [],
   "source": [
    "colour.add(\"purple\")"
   ]
  },
  {
   "cell_type": "code",
   "execution_count": 103,
   "id": "54a37fa6-8b85-42e0-8c5b-6964d68b2d36",
   "metadata": {},
   "outputs": [
    {
     "data": {
      "text/plain": [
       "{'blue', 'green', 'orange', 'pink', 'purple', 'red', 'yellow'}"
      ]
     },
     "execution_count": 103,
     "metadata": {},
     "output_type": "execute_result"
    }
   ],
   "source": [
    "colour"
   ]
  },
  {
   "cell_type": "code",
   "execution_count": 105,
   "id": "8f0b3d78-acae-4cf4-90cd-aa41f5a065e4",
   "metadata": {},
   "outputs": [],
   "source": [
    "colour.remove(\"red\")"
   ]
  },
  {
   "cell_type": "code",
   "execution_count": 107,
   "id": "9a10935f-18cc-4ccf-8d08-5d278120355e",
   "metadata": {},
   "outputs": [
    {
     "data": {
      "text/plain": [
       "{'blue', 'green', 'orange', 'pink', 'purple', 'yellow'}"
      ]
     },
     "execution_count": 107,
     "metadata": {},
     "output_type": "execute_result"
    }
   ],
   "source": [
    "colour"
   ]
  },
  {
   "cell_type": "code",
   "execution_count": 109,
   "id": "d77d9b2f-0143-44de-88fd-0a6a34db82fa",
   "metadata": {},
   "outputs": [
    {
     "data": {
      "text/plain": [
       "True"
      ]
     },
     "execution_count": 109,
     "metadata": {},
     "output_type": "execute_result"
    }
   ],
   "source": [
    "\"blue\" in colour"
   ]
  },
  {
   "cell_type": "code",
   "execution_count": 111,
   "id": "c850bdac-0e97-403c-8bfe-fee816a0ec1a",
   "metadata": {},
   "outputs": [
    {
     "data": {
      "text/plain": [
       "False"
      ]
     },
     "execution_count": 111,
     "metadata": {},
     "output_type": "execute_result"
    }
   ],
   "source": [
    "\"red\" in colour"
   ]
  },
  {
   "cell_type": "code",
   "execution_count": 113,
   "id": "d04708ce-7d98-48a2-bd15-3e2f3c2c3381",
   "metadata": {},
   "outputs": [
    {
     "data": {
      "text/plain": [
       "{'blue', 'green', 'indigo', 'orange', 'red', 'violet', 'yellow'}"
      ]
     },
     "execution_count": 113,
     "metadata": {},
     "output_type": "execute_result"
    }
   ],
   "source": [
    "rainbow = {\"red\", \"orange\", \"yellow\", \"green\", \"blue\", \"indigo\", \"violet\"}\n",
    "rainbow\n"
   ]
  },
  {
   "cell_type": "code",
   "execution_count": 115,
   "id": "f9c69f2e-adb9-4fd6-b6e0-141d23c0c728",
   "metadata": {},
   "outputs": [
    {
     "data": {
      "text/plain": [
       "({'blue', 'green', 'orange', 'pink', 'purple', 'yellow'},\n",
       " {'blue', 'green', 'indigo', 'orange', 'red', 'violet', 'yellow'})"
      ]
     },
     "execution_count": 115,
     "metadata": {},
     "output_type": "execute_result"
    }
   ],
   "source": [
    "colour, rainbow"
   ]
  },
  {
   "cell_type": "markdown",
   "id": "3f554851-ce0d-48a7-a955-49ac236ce21a",
   "metadata": {},
   "source": [
    "they kinda match the common stuff"
   ]
  },
  {
   "cell_type": "markdown",
   "id": "de7cea8a-bfd4-4193-afbe-c046cd031433",
   "metadata": {},
   "source": [
    "no element is allowed to repeat in a set"
   ]
  },
  {
   "cell_type": "markdown",
   "id": "15c09753-a90d-4451-9d4d-b68d7a88d282",
   "metadata": {},
   "source": [
    "# condition and branching"
   ]
  },
  {
   "cell_type": "code",
   "execution_count": 144,
   "id": "af0b284b-3153-4831-9f63-59a167b23188",
   "metadata": {},
   "outputs": [
    {
     "data": {
      "text/plain": [
       "False"
      ]
     },
     "execution_count": 144,
     "metadata": {},
     "output_type": "execute_result"
    }
   ],
   "source": [
    "p = 0.05\n",
    "p> 1"
   ]
  },
  {
   "cell_type": "markdown",
   "id": "1158c1aa-a983-4671-8369-3d62b8655dea",
   "metadata": {},
   "source": [
    "no need to write any statements, it will just give true or false with nothing"
   ]
  },
  {
   "cell_type": "code",
   "execution_count": 147,
   "id": "47136a78-dbec-4f06-b15d-c0e52b3170a0",
   "metadata": {},
   "outputs": [
    {
     "data": {
      "text/plain": [
       "True"
      ]
     },
     "execution_count": 147,
     "metadata": {},
     "output_type": "execute_result"
    }
   ],
   "source": [
    "p !=4"
   ]
  },
  {
   "cell_type": "markdown",
   "id": "3572b292-a4a1-4190-af91-12b94952569d",
   "metadata": {},
   "source": [
    "!= means not equal to"
   ]
  },
  {
   "cell_type": "raw",
   "id": "28393463-cd3f-4e8d-8fd0-aaee063291a1",
   "metadata": {},
   "source": [
    "|Char.|ASCII |\tChar. |\tASCII|\tChar.|\tASCII|\tChar.\t|ASCII|\n",
    "--------\n",
    "|A|\t65| N|\t78| a|\t97 |\tn|\t110|\n",
    "|B|\t66|\tO|\t79|\tb|\t98 |\to|\t111|\n",
    "|C|\t67|\tP|\t80|\tc|\t99 |\tp|\t112|\n",
    "|D|\t68|\tQ|\t81|\td|\t100|    q|\t113|\n",
    "|E|\t69|\tR|\t82|\te|\t101|    r|\t114|\n",
    "|F|\t70|\tS|\t83|\tf|\t102|\ts|\t115|\n",
    "|G|\t71|\tT|\t84|\tg|\t103|    t|\t116|\n",
    "|H|\t72|\tU|\t85|\th|\t104|\tu|\t117|\n",
    "|I|\t73|\tV|\t86|\ti|\t105|\tv|\t118|\n",
    "|J|\t74|\tW|\t87|\tj|\t106|\tw|\t119|\n",
    "|K|\t75|\tX|\t88|\tk|\t107|\tx|\t120|\n",
    "|L|\t76|\tY|\t89|\tl|\t108|\ty|\t121|\n",
    "|M|\t77|\tZ|\t90|\tm|\t109|\tz|\t122|"
   ]
  },
  {
   "cell_type": "code",
   "execution_count": 157,
   "id": "8b451505-c0f2-425b-940e-81ca5066f9a5",
   "metadata": {},
   "outputs": [
    {
     "name": "stdout",
     "output_type": "stream",
     "text": [
      "go see MHA\n",
      "move on\n"
     ]
    }
   ],
   "source": [
    "age = 18\n",
    "if age > 18:\n",
    "    print(\"watch AOT\" )\n",
    "else:\n",
    "    print(\"go see MHA\" )\n",
    "    \n",
    "print(\"move on\")"
   ]
  },
  {
   "cell_type": "code",
   "execution_count": 159,
   "id": "60e724d6-6589-4427-ad7a-ca6b08621478",
   "metadata": {},
   "outputs": [
    {
     "name": "stdout",
     "output_type": "stream",
     "text": [
      "go see JJK\n",
      "move on\n"
     ]
    }
   ],
   "source": [
    "age = 18\n",
    "\n",
    "if age > 18:\n",
    "    print(\"watch AOT\" )\n",
    "elif age == 18:\n",
    "    print(\"go see JJK\")\n",
    "else:\n",
    "    print(\"go see MHA\" )\n",
    "    \n",
    "print(\"move on\")"
   ]
  },
  {
   "cell_type": "code",
   "execution_count": 161,
   "id": "33063df2-2fdf-4eb3-b05e-36c1cd6a1326",
   "metadata": {},
   "outputs": [
    {
     "name": "stdout",
     "output_type": "stream",
     "text": [
      "Before square  0 is red\n",
      "After square  0 is white\n",
      "Before square  1 is yellow\n",
      "After square  1 is white\n",
      "Before square  2 is green\n",
      "After square  2 is white\n",
      "Before square  3 is purple\n",
      "After square  3 is white\n",
      "Before square  4 is blue\n",
      "After square  4 is white\n"
     ]
    }
   ],
   "source": [
    "squares = ['red', 'yellow', 'green', 'purple', 'blue']\n",
    "\n",
    "for i in range(0, 5):\n",
    "    print(\"Before square \", i, 'is',  squares[i])\n",
    "    squares[i] = 'white'\n",
    "    print(\"After square \", i, 'is',  squares[i])\n",
    "    "
   ]
  },
  {
   "cell_type": "code",
   "execution_count": 163,
   "id": "aceeba2d-4114-4f4b-b57b-756e94b5c203",
   "metadata": {},
   "outputs": [
    {
     "name": "stdout",
     "output_type": "stream",
     "text": [
      "1\n",
      "2\n",
      "3\n",
      "4\n",
      "5\n"
     ]
    }
   ],
   "source": [
    "count = 1\n",
    "while count <= 5:\n",
    "    print(count)\n",
    "    count += 1"
   ]
  },
  {
   "cell_type": "code",
   "execution_count": 165,
   "id": "2b5c1b73-aef9-4037-be21-242da6d3e4f2",
   "metadata": {},
   "outputs": [
    {
     "name": "stdout",
     "output_type": "stream",
     "text": [
      "AA\n",
      "BA\n",
      "CA\n"
     ]
    }
   ],
   "source": [
    "for x in ['A', 'B', 'C']:\n",
    "    print(x + 'A')"
   ]
  },
  {
   "cell_type": "code",
   "execution_count": 167,
   "id": "d36722a4-0c63-47b6-af85-38b3d4843b33",
   "metadata": {},
   "outputs": [
    {
     "name": "stdout",
     "output_type": "stream",
     "text": [
      "0 A\n",
      "1 B\n",
      "2 C\n"
     ]
    }
   ],
   "source": [
    "for i, x in enumerate(['A', 'B', 'C']):\n",
    "    print(i, x)\n"
   ]
  },
  {
   "cell_type": "code",
   "execution_count": null,
   "id": "0d1d24a0-a620-4f6e-9eb0-a744b6f6b598",
   "metadata": {},
   "outputs": [],
   "source": []
  },
  {
   "cell_type": "code",
   "execution_count": 5,
   "id": "dc5fface-b5c8-4f74-b66b-6efac1784b82",
   "metadata": {},
   "outputs": [
    {
     "name": "stdout",
     "output_type": "stream",
     "text": [
      "5\n",
      "4\n",
      "3\n"
     ]
    }
   ],
   "source": [
    "x = 5 \n",
    "while x != 2: \n",
    "     \n",
    "    print(x) \n",
    "    x = x - 1 \n"
   ]
  },
  {
   "cell_type": "code",
   "execution_count": null,
   "id": "64c33477-a329-401b-85bf-6580b7551c1a",
   "metadata": {},
   "outputs": [],
   "source": [
    "x = 5 \n",
    "while x != 2: \n",
    "      x = x - 1 \n",
    "   \n",
    "print(x) \n",
    "    "
   ]
  },
  {
   "cell_type": "markdown",
   "id": "f4bb8d4c-9216-4ae9-b39f-e6aafc8c4858",
   "metadata": {},
   "source": [
    "# functions"
   ]
  },
  {
   "cell_type": "code",
   "execution_count": 170,
   "id": "6c3ddfc4-18f7-49a4-8320-5489401f114f",
   "metadata": {},
   "outputs": [
    {
     "name": "stdout",
     "output_type": "stream",
     "text": [
      "24\n"
     ]
    }
   ],
   "source": [
    "def Mult(a, b):\n",
    "    c = a * b\n",
    "    return(c)\n",
    "    print('This is not printed')\n",
    "    \n",
    "result = Mult(12,2)\n",
    "print(result)"
   ]
  },
  {
   "cell_type": "code",
   "execution_count": 176,
   "id": "f91e346e-fc19-4501-be0d-f3424233e569",
   "metadata": {},
   "outputs": [
    {
     "data": {
      "text/plain": [
       "' hee hee'"
      ]
     },
     "execution_count": 176,
     "metadata": {},
     "output_type": "execute_result"
    }
   ],
   "source": [
    "Mult(2, \" hee\")"
   ]
  },
  {
   "cell_type": "markdown",
   "id": "234f8870-ec17-42c1-92f9-75ba0657028b",
   "metadata": {},
   "source": [
    "# exception handling "
   ]
  },
  {
   "cell_type": "markdown",
   "id": "54609027-771d-4625-8703-68d8e3a8182d",
   "metadata": {},
   "source": [
    "types of errors:\n",
    "- name error - for undefined variable\n",
    "- index error - like extracting the 10th value without even having it in a list or something \n",
    "- zero division error\n",
    "- refer to: (https://docs.python.org/3/library/exceptions.html) for more information on errors\n",
    "  "
   ]
  },
  {
   "cell_type": "code",
   "execution_count": 181,
   "id": "4c20620c-743d-4518-ad50-9403fe9c2616",
   "metadata": {},
   "outputs": [
    {
     "name": "stdin",
     "output_type": "stream",
     "text": [
      "Please enter a number to divide a 3\n"
     ]
    },
    {
     "name": "stdout",
     "output_type": "stream",
     "text": [
      "Success a= 0.3333333333333333\n"
     ]
    }
   ],
   "source": [
    "a = 1\n",
    "\n",
    "try:\n",
    "    b = int(input(\"Please enter a number to divide a\"))\n",
    "    a = a/b\n",
    "    print(\"Success a=\",a)\n",
    "except:\n",
    "    print(\"There was an error\")"
   ]
  },
  {
   "cell_type": "code",
   "execution_count": 183,
   "id": "adba166a-09d1-4367-9879-132f25434078",
   "metadata": {},
   "outputs": [
    {
     "name": "stdin",
     "output_type": "stream",
     "text": [
      "Please enter a number to divide a 0\n"
     ]
    },
    {
     "name": "stdout",
     "output_type": "stream",
     "text": [
      "There was an error\n"
     ]
    }
   ],
   "source": [
    "# imma run this code again but this time I'll try making a zero error happen\n",
    "a = 1\n",
    "\n",
    "try:\n",
    "    b = int(input(\"Please enter a number to divide a\"))\n",
    "    a = a/b\n",
    "    print(\"Success a=\",a)\n",
    "except:\n",
    "    print(\"There was an error\")"
   ]
  },
  {
   "cell_type": "code",
   "execution_count": 185,
   "id": "259b3d21-7c38-4618-bde8-cbf603f638f5",
   "metadata": {},
   "outputs": [
    {
     "name": "stdin",
     "output_type": "stream",
     "text": [
      "Please enter a number to divide a 9\n"
     ]
    },
    {
     "name": "stdout",
     "output_type": "stream",
     "text": [
      "Success a= 0.1111111111111111\n"
     ]
    }
   ],
   "source": [
    "a = 1\n",
    "\n",
    "try:\n",
    "    b = int(input(\"Please enter a number to divide a\"))\n",
    "    a = a/b\n",
    "    print(\"Success a=\",a)\n",
    "except ZeroDivisionError:\n",
    "    print(\"The number you provided cant divide 1 because it is 0\")\n",
    "except ValueError:\n",
    "    print(\"You did not provide a number\")\n",
    "except:\n",
    "    print(\"Something went wrong\")\n",
    "        "
   ]
  },
  {
   "cell_type": "code",
   "execution_count": 187,
   "id": "e859a50a-4ccd-4e66-aba8-9bee661a562e",
   "metadata": {},
   "outputs": [
    {
     "name": "stdin",
     "output_type": "stream",
     "text": [
      "Please enter a number to divide a 0\n"
     ]
    },
    {
     "name": "stdout",
     "output_type": "stream",
     "text": [
      "The number you provided cant divide 1 because it is 0\n"
     ]
    }
   ],
   "source": [
    "a = 1\n",
    "\n",
    "try:\n",
    "    b = int(input(\"Please enter a number to divide a\"))\n",
    "    a = a/b\n",
    "    print(\"Success a=\",a)\n",
    "except ZeroDivisionError:\n",
    "    print(\"The number you provided cant divide 1 because it is 0\")\n",
    "except ValueError:\n",
    "    print(\"You did not provide a number\")\n",
    "except:\n",
    "    print(\"Something went wrong\")\n",
    "        "
   ]
  },
  {
   "cell_type": "code",
   "execution_count": 189,
   "id": "45be2481-8c11-4d19-812b-304d501b3f61",
   "metadata": {},
   "outputs": [
    {
     "name": "stdin",
     "output_type": "stream",
     "text": [
      "Please enter a number to divide a \n"
     ]
    },
    {
     "name": "stdout",
     "output_type": "stream",
     "text": [
      "You did not provide a number\n"
     ]
    }
   ],
   "source": [
    "a = 1\n",
    "\n",
    "try:\n",
    "    b = int(input(\"Please enter a number to divide a\"))\n",
    "    a = a/b\n",
    "    print(\"Success a=\",a)\n",
    "except ZeroDivisionError:\n",
    "    print(\"The number you provided cant divide 1 because it is 0\")\n",
    "except ValueError:\n",
    "    print(\"You did not provide a number\")\n",
    "except:\n",
    "    print(\"Something went wrong\")\n",
    "        "
   ]
  },
  {
   "cell_type": "code",
   "execution_count": 191,
   "id": "791935de-7f9d-41bb-a2cd-7062439dd5cb",
   "metadata": {},
   "outputs": [
    {
     "name": "stdin",
     "output_type": "stream",
     "text": [
      "Please enter a number to divide a 8\n"
     ]
    },
    {
     "name": "stdout",
     "output_type": "stream",
     "text": [
      "success a= 0.125\n",
      "Processing Complete\n"
     ]
    }
   ],
   "source": [
    "a = 1\n",
    "\n",
    "try:\n",
    "    b = int(input(\"Please enter a number to divide a\"))\n",
    "    a = a/b\n",
    "except ZeroDivisionError:\n",
    "    print(\"The number you provided cant divide 1 because it is 0\")\n",
    "except ValueError:\n",
    "    print(\"You did not provide a number\")\n",
    "except:\n",
    "    print(\"Something went wrong\")\n",
    "else:\n",
    "    print(\"success a=\",a)\n",
    "finally:\n",
    "    print(\"Processing Complete\")"
   ]
  },
  {
   "cell_type": "markdown",
   "id": "fea1fff4-0d38-4c61-b97a-5932f2f6bc40",
   "metadata": {},
   "source": [
    "# numpy \n"
   ]
  },
  {
   "cell_type": "code",
   "execution_count": 4,
   "id": "f043ddd7-70f9-404d-8425-aff9c8a8ade0",
   "metadata": {},
   "outputs": [
    {
     "data": {
      "text/plain": [
       "0"
      ]
     },
     "execution_count": 4,
     "metadata": {},
     "output_type": "execute_result"
    }
   ],
   "source": [
    "import numpy as np\n",
    "a=np.array([-1,1]) \n",
    "\n",
    "b=np.array([1,1]) \n",
    "\n",
    "np.dot(a,b) \n"
   ]
  },
  {
   "cell_type": "code",
   "execution_count": 12,
   "id": "4a8458bd-4679-4099-b33d-450e0b586fe7",
   "metadata": {},
   "outputs": [
    {
     "name": "stdout",
     "output_type": "stream",
     "text": [
      "[[1 1]\n",
      " [1 1]]\n"
     ]
    }
   ],
   "source": [
    "import numpy as np\n",
    "X=np.array([[1,0],[0,1]]) \n",
    "\n",
    "Y=np.array([[0,1],[1,0]]) \n",
    "\n",
    "Z=X+Y \n",
    "print (Z)\n"
   ]
  },
  {
   "cell_type": "code",
   "execution_count": 20,
   "id": "a53f82ff-a2d0-4cc9-a1e8-806691144642",
   "metadata": {},
   "outputs": [
    {
     "name": "stdout",
     "output_type": "stream",
     "text": [
      "[1 2]\n"
     ]
    }
   ],
   "source": [
    "X=np.array([[1,0,1],[2,2,2]]) \n",
    "\n",
    "out=X[0:2,2]\n",
    "print(out)\n",
    "\n",
    "\n"
   ]
  },
  {
   "cell_type": "code",
   "execution_count": 24,
   "id": "bd0d76d9-2d23-4008-98bf-79bbad66b249",
   "metadata": {},
   "outputs": [
    {
     "name": "stdout",
     "output_type": "stream",
     "text": [
      "[[2 2]\n",
      " [2 2]]\n"
     ]
    }
   ],
   "source": [
    "X=np.array([[1,0],[0,1]])\n",
    "\n",
    "Y=np.array([[2,2],[2,2]]) \n",
    "\n",
    "Z=np.dot(X,Y) \n",
    "print (Z)\n"
   ]
  },
  {
   "cell_type": "code",
   "execution_count": 26,
   "id": "85a277ff-80df-4798-a86c-e0e40e1f1f34",
   "metadata": {},
   "outputs": [
    {
     "name": "stdout",
     "output_type": "stream",
     "text": [
      "0\n"
     ]
    }
   ],
   "source": [
    "a=np.array([0,1,0,1,0]) \n",
    "\n",
    "b=np.array([1,0,1,0,1]) \n",
    "\n",
    "Z=np.dot (a,b)\n",
    "print (Z)"
   ]
  },
  {
   "cell_type": "code",
   "execution_count": null,
   "id": "6fca4ab1-4b0a-461a-81ce-19ed4fa33281",
   "metadata": {},
   "outputs": [],
   "source": []
  }
 ],
 "metadata": {
  "kernelspec": {
   "display_name": "Python 3 (ipykernel)",
   "language": "python",
   "name": "python3"
  },
  "language_info": {
   "codemirror_mode": {
    "name": "ipython",
    "version": 3
   },
   "file_extension": ".py",
   "mimetype": "text/x-python",
   "name": "python",
   "nbconvert_exporter": "python",
   "pygments_lexer": "ipython3",
   "version": "3.12.4"
  }
 },
 "nbformat": 4,
 "nbformat_minor": 5
}
